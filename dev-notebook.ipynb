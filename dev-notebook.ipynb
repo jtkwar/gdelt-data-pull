{
 "cells": [
  {
   "cell_type": "code",
   "execution_count": 51,
   "metadata": {},
   "outputs": [],
   "source": [
    "import os\n",
    "import sys\n",
    "import urllib\n",
    "from urllib.request import urlopen\n",
    "import numpy as np\n",
    "import pandas as pd\n",
    "import requests\n",
    "from tqdm.notebook import trange, tqdm\n",
    "import typing\n",
    "import wget\n",
    "import zipfile\n",
    "from datetime import date, timedelta, datetime\n",
    "import sys\n",
    "import csv\n",
    "# Incorporated to load the proper sized \n",
    "maxInt = sys.maxsize\n",
    "while True:\n",
    "    # decrease the maxInt value by factor 10 \n",
    "    # as long as the OverflowError occurs.\n",
    "\n",
    "    try:\n",
    "        csv.field_size_limit(maxInt)\n",
    "        break\n",
    "    except OverflowError:\n",
    "        maxInt = int(maxInt/10)"
   ]
  },
  {
   "cell_type": "code",
   "execution_count": 4,
   "metadata": {},
   "outputs": [
    {
     "data": {
      "text/plain": [
       "'c:\\\\Users\\\\stark\\\\Documents\\\\Anastria\\\\gdelt-data-pull'"
      ]
     },
     "execution_count": 4,
     "metadata": {},
     "output_type": "execute_result"
    }
   ],
   "source": [
    "os.getcwd()"
   ]
  },
  {
   "cell_type": "markdown",
   "metadata": {},
   "source": [
    "## Getting the Master File Downloaded"
   ]
  },
  {
   "cell_type": "code",
   "execution_count": 5,
   "metadata": {},
   "outputs": [],
   "source": [
    "# url variable - master list of all data files collected and stored by GDELT Project\n",
    "url=\"http://data.gdeltproject.org/gdeltv2/masterfilelist.txt\""
   ]
  },
  {
   "cell_type": "code",
   "execution_count": 6,
   "metadata": {},
   "outputs": [],
   "source": [
    "text = requests.get(url).text.splitlines()"
   ]
  },
  {
   "cell_type": "code",
   "execution_count": 5,
   "metadata": {},
   "outputs": [
    {
     "data": {
      "text/plain": [
       "'150383 297a16b493de7cf6ca809a7cc31d0b93 http://data.gdeltproject.org/gdeltv2/20150218230000.export.CSV.zip'"
      ]
     },
     "execution_count": 5,
     "metadata": {},
     "output_type": "execute_result"
    }
   ],
   "source": [
    "text[0]"
   ]
  },
  {
   "cell_type": "code",
   "execution_count": 7,
   "metadata": {},
   "outputs": [
    {
     "data": {
      "application/vnd.jupyter.widget-view+json": {
       "model_id": "8733bdb0fb4e4fddb1805dab4302a33d",
       "version_major": 2,
       "version_minor": 0
      },
      "text/plain": [
       "  0%|          | 0/756951 [00:00<?, ?it/s]"
      ]
     },
     "metadata": {},
     "output_type": "display_data"
    }
   ],
   "source": [
    "split_text = []\n",
    "for i in tqdm(range(len(text))):\n",
    "    split_line = text[i].split(' ')\n",
    "    split_text.append(split_line)\n"
   ]
  },
  {
   "cell_type": "markdown",
   "metadata": {},
   "source": [
    "- Woah there.  There are 756k rows of scraped information starting back in 2015 ad continuing up to today.  Is this all of the legendary 2.5TB they mentioned that they have?\n",
    "- If this does in fact have all or even most of the data, there is no bloody way that I would be able to download and store it all.\n",
    "- Let us start with a smaller set, say only looking at all the news over the last year or so.\n",
    "- Once I have the full system in place, I can start to write all the scripts for handling the downloading and storing of the data for our usage (either personal or for Valkyrie's use)"
   ]
  },
  {
   "cell_type": "code",
   "execution_count": 8,
   "metadata": {},
   "outputs": [
    {
     "data": {
      "text/html": [
       "<div>\n",
       "<style scoped>\n",
       "    .dataframe tbody tr th:only-of-type {\n",
       "        vertical-align: middle;\n",
       "    }\n",
       "\n",
       "    .dataframe tbody tr th {\n",
       "        vertical-align: top;\n",
       "    }\n",
       "\n",
       "    .dataframe thead th {\n",
       "        text-align: right;\n",
       "    }\n",
       "</style>\n",
       "<table border=\"1\" class=\"dataframe\">\n",
       "  <thead>\n",
       "    <tr style=\"text-align: right;\">\n",
       "      <th></th>\n",
       "      <th>0</th>\n",
       "      <th>1</th>\n",
       "      <th>2</th>\n",
       "    </tr>\n",
       "  </thead>\n",
       "  <tbody>\n",
       "    <tr>\n",
       "      <th>0</th>\n",
       "      <td>150383</td>\n",
       "      <td>297a16b493de7cf6ca809a7cc31d0b93</td>\n",
       "      <td>http://data.gdeltproject.org/gdeltv2/201502182...</td>\n",
       "    </tr>\n",
       "    <tr>\n",
       "      <th>1</th>\n",
       "      <td>318084</td>\n",
       "      <td>bb27f78ba45f69a17ea6ed7755e9f8ff</td>\n",
       "      <td>http://data.gdeltproject.org/gdeltv2/201502182...</td>\n",
       "    </tr>\n",
       "    <tr>\n",
       "      <th>2</th>\n",
       "      <td>10768507</td>\n",
       "      <td>ea8dde0beb0ba98810a92db068c0ce99</td>\n",
       "      <td>http://data.gdeltproject.org/gdeltv2/201502182...</td>\n",
       "    </tr>\n",
       "    <tr>\n",
       "      <th>3</th>\n",
       "      <td>149211</td>\n",
       "      <td>2a91041d7e72b0fc6a629e2ff867b240</td>\n",
       "      <td>http://data.gdeltproject.org/gdeltv2/201502182...</td>\n",
       "    </tr>\n",
       "    <tr>\n",
       "      <th>4</th>\n",
       "      <td>339037</td>\n",
       "      <td>dec3f427076b716a8112b9086c342523</td>\n",
       "      <td>http://data.gdeltproject.org/gdeltv2/201502182...</td>\n",
       "    </tr>\n",
       "  </tbody>\n",
       "</table>\n",
       "</div>"
      ],
      "text/plain": [
       "          0                                 1  \\\n",
       "0    150383  297a16b493de7cf6ca809a7cc31d0b93   \n",
       "1    318084  bb27f78ba45f69a17ea6ed7755e9f8ff   \n",
       "2  10768507  ea8dde0beb0ba98810a92db068c0ce99   \n",
       "3    149211  2a91041d7e72b0fc6a629e2ff867b240   \n",
       "4    339037  dec3f427076b716a8112b9086c342523   \n",
       "\n",
       "                                                   2  \n",
       "0  http://data.gdeltproject.org/gdeltv2/201502182...  \n",
       "1  http://data.gdeltproject.org/gdeltv2/201502182...  \n",
       "2  http://data.gdeltproject.org/gdeltv2/201502182...  \n",
       "3  http://data.gdeltproject.org/gdeltv2/201502182...  \n",
       "4  http://data.gdeltproject.org/gdeltv2/201502182...  "
      ]
     },
     "execution_count": 8,
     "metadata": {},
     "output_type": "execute_result"
    }
   ],
   "source": [
    "df = pd.DataFrame(split_text)\n",
    "df.head()"
   ]
  },
  {
   "cell_type": "code",
   "execution_count": 8,
   "metadata": {},
   "outputs": [
    {
     "data": {
      "text/plain": [
       "False    756528\n",
       "True        288\n",
       "Name: 2, dtype: int64"
      ]
     },
     "execution_count": 8,
     "metadata": {},
     "output_type": "execute_result"
    }
   ],
   "source": [
    "mask = df[2].str.contains('gdeltv2/20220601', na=False)\n",
    "mask.value_counts()"
   ]
  },
  {
   "cell_type": "code",
   "execution_count": 9,
   "metadata": {},
   "outputs": [
    {
     "data": {
      "text/html": [
       "<div>\n",
       "<style scoped>\n",
       "    .dataframe tbody tr th:only-of-type {\n",
       "        vertical-align: middle;\n",
       "    }\n",
       "\n",
       "    .dataframe tbody tr th {\n",
       "        vertical-align: top;\n",
       "    }\n",
       "\n",
       "    .dataframe thead th {\n",
       "        text-align: right;\n",
       "    }\n",
       "</style>\n",
       "<table border=\"1\" class=\"dataframe\">\n",
       "  <thead>\n",
       "    <tr style=\"text-align: right;\">\n",
       "      <th></th>\n",
       "      <th>0</th>\n",
       "      <th>1</th>\n",
       "      <th>2</th>\n",
       "    </tr>\n",
       "  </thead>\n",
       "  <tbody>\n",
       "    <tr>\n",
       "      <th>749544</th>\n",
       "      <td>152466</td>\n",
       "      <td>a6838081ea074f1853b32d26889f0379</td>\n",
       "      <td>http://data.gdeltproject.org/gdeltv2/202206010...</td>\n",
       "    </tr>\n",
       "    <tr>\n",
       "      <th>749545</th>\n",
       "      <td>110665</td>\n",
       "      <td>dc6dd46a024e9b07ee1a9d15f98de4c7</td>\n",
       "      <td>http://data.gdeltproject.org/gdeltv2/202206010...</td>\n",
       "    </tr>\n",
       "    <tr>\n",
       "      <th>749546</th>\n",
       "      <td>5818349</td>\n",
       "      <td>cbdf2f2eb2917986b96f7b455d3ef0e5</td>\n",
       "      <td>http://data.gdeltproject.org/gdeltv2/202206010...</td>\n",
       "    </tr>\n",
       "    <tr>\n",
       "      <th>749547</th>\n",
       "      <td>139778</td>\n",
       "      <td>611c45161cdf3fc26b1ccef0dea3774b</td>\n",
       "      <td>http://data.gdeltproject.org/gdeltv2/202206010...</td>\n",
       "    </tr>\n",
       "    <tr>\n",
       "      <th>749548</th>\n",
       "      <td>126558</td>\n",
       "      <td>fe867de1b332c589e677133e802545c9</td>\n",
       "      <td>http://data.gdeltproject.org/gdeltv2/202206010...</td>\n",
       "    </tr>\n",
       "    <tr>\n",
       "      <th>...</th>\n",
       "      <td>...</td>\n",
       "      <td>...</td>\n",
       "      <td>...</td>\n",
       "    </tr>\n",
       "    <tr>\n",
       "      <th>749827</th>\n",
       "      <td>148106</td>\n",
       "      <td>2923b9e6c38631a653c93e8cc9cbcca8</td>\n",
       "      <td>http://data.gdeltproject.org/gdeltv2/202206012...</td>\n",
       "    </tr>\n",
       "    <tr>\n",
       "      <th>749828</th>\n",
       "      <td>6912481</td>\n",
       "      <td>c092bde002ee42dfcb45ba378f67446e</td>\n",
       "      <td>http://data.gdeltproject.org/gdeltv2/202206012...</td>\n",
       "    </tr>\n",
       "    <tr>\n",
       "      <th>749829</th>\n",
       "      <td>86093</td>\n",
       "      <td>0ee7698a5f539c65e7720ba070a2185f</td>\n",
       "      <td>http://data.gdeltproject.org/gdeltv2/202206012...</td>\n",
       "    </tr>\n",
       "    <tr>\n",
       "      <th>749830</th>\n",
       "      <td>183502</td>\n",
       "      <td>a5c6b05d09e1562f90cdc33f42d13a8c</td>\n",
       "      <td>http://data.gdeltproject.org/gdeltv2/202206012...</td>\n",
       "    </tr>\n",
       "    <tr>\n",
       "      <th>749831</th>\n",
       "      <td>7549811</td>\n",
       "      <td>1a3c4dbd8aa1107551cfc521e5b5d381</td>\n",
       "      <td>http://data.gdeltproject.org/gdeltv2/202206012...</td>\n",
       "    </tr>\n",
       "  </tbody>\n",
       "</table>\n",
       "<p>288 rows × 3 columns</p>\n",
       "</div>"
      ],
      "text/plain": [
       "              0                                 1  \\\n",
       "749544   152466  a6838081ea074f1853b32d26889f0379   \n",
       "749545   110665  dc6dd46a024e9b07ee1a9d15f98de4c7   \n",
       "749546  5818349  cbdf2f2eb2917986b96f7b455d3ef0e5   \n",
       "749547   139778  611c45161cdf3fc26b1ccef0dea3774b   \n",
       "749548   126558  fe867de1b332c589e677133e802545c9   \n",
       "...         ...                               ...   \n",
       "749827   148106  2923b9e6c38631a653c93e8cc9cbcca8   \n",
       "749828  6912481  c092bde002ee42dfcb45ba378f67446e   \n",
       "749829    86093  0ee7698a5f539c65e7720ba070a2185f   \n",
       "749830   183502  a5c6b05d09e1562f90cdc33f42d13a8c   \n",
       "749831  7549811  1a3c4dbd8aa1107551cfc521e5b5d381   \n",
       "\n",
       "                                                        2  \n",
       "749544  http://data.gdeltproject.org/gdeltv2/202206010...  \n",
       "749545  http://data.gdeltproject.org/gdeltv2/202206010...  \n",
       "749546  http://data.gdeltproject.org/gdeltv2/202206010...  \n",
       "749547  http://data.gdeltproject.org/gdeltv2/202206010...  \n",
       "749548  http://data.gdeltproject.org/gdeltv2/202206010...  \n",
       "...                                                   ...  \n",
       "749827  http://data.gdeltproject.org/gdeltv2/202206012...  \n",
       "749828  http://data.gdeltproject.org/gdeltv2/202206012...  \n",
       "749829  http://data.gdeltproject.org/gdeltv2/202206012...  \n",
       "749830  http://data.gdeltproject.org/gdeltv2/202206012...  \n",
       "749831  http://data.gdeltproject.org/gdeltv2/202206012...  \n",
       "\n",
       "[288 rows x 3 columns]"
      ]
     },
     "execution_count": 9,
     "metadata": {},
     "output_type": "execute_result"
    }
   ],
   "source": [
    "df[mask]"
   ]
  },
  {
   "cell_type": "markdown",
   "metadata": {},
   "source": [
    "- It appears the Death Star is orbiting the Forest Moon of Endor\n",
    "- There were some `NaN` values in there that had to be handled apparently, but luckily the fine folks at pandas had a solution built in already.  Not sure how many data files I lose doing it this way.  Who knows.\n",
    "- If I can get to a place where I can download a selected date range or a single day and process and store all the data, I think that I will be in good shape.\n",
    "- There should be 288 entries for every day\n",
    "    - This accounts for the 15 minute update\n",
    "    - And for the three different files that are created and uploaded by GDELT Project."
   ]
  },
  {
   "cell_type": "code",
   "execution_count": 10,
   "metadata": {},
   "outputs": [
    {
     "data": {
      "text/html": [
       "<div>\n",
       "<style scoped>\n",
       "    .dataframe tbody tr th:only-of-type {\n",
       "        vertical-align: middle;\n",
       "    }\n",
       "\n",
       "    .dataframe tbody tr th {\n",
       "        vertical-align: top;\n",
       "    }\n",
       "\n",
       "    .dataframe thead th {\n",
       "        text-align: right;\n",
       "    }\n",
       "</style>\n",
       "<table border=\"1\" class=\"dataframe\">\n",
       "  <thead>\n",
       "    <tr style=\"text-align: right;\">\n",
       "      <th></th>\n",
       "      <th>0</th>\n",
       "      <th>1</th>\n",
       "      <th>2</th>\n",
       "    </tr>\n",
       "  </thead>\n",
       "  <tbody>\n",
       "    <tr>\n",
       "      <th>749544</th>\n",
       "      <td>152466</td>\n",
       "      <td>a6838081ea074f1853b32d26889f0379</td>\n",
       "      <td>http://data.gdeltproject.org/gdeltv2/202206010...</td>\n",
       "    </tr>\n",
       "    <tr>\n",
       "      <th>749547</th>\n",
       "      <td>139778</td>\n",
       "      <td>611c45161cdf3fc26b1ccef0dea3774b</td>\n",
       "      <td>http://data.gdeltproject.org/gdeltv2/202206010...</td>\n",
       "    </tr>\n",
       "    <tr>\n",
       "      <th>749550</th>\n",
       "      <td>116579</td>\n",
       "      <td>deab31d4da2d9c0fab7f320e91047020</td>\n",
       "      <td>http://data.gdeltproject.org/gdeltv2/202206010...</td>\n",
       "    </tr>\n",
       "    <tr>\n",
       "      <th>749553</th>\n",
       "      <td>85662</td>\n",
       "      <td>1ccd0d1bb89c10a82370adf96391b345</td>\n",
       "      <td>http://data.gdeltproject.org/gdeltv2/202206010...</td>\n",
       "    </tr>\n",
       "    <tr>\n",
       "      <th>749556</th>\n",
       "      <td>103977</td>\n",
       "      <td>6aff19407893185483b47b721c7f256a</td>\n",
       "      <td>http://data.gdeltproject.org/gdeltv2/202206010...</td>\n",
       "    </tr>\n",
       "    <tr>\n",
       "      <th>...</th>\n",
       "      <td>...</td>\n",
       "      <td>...</td>\n",
       "      <td>...</td>\n",
       "    </tr>\n",
       "    <tr>\n",
       "      <th>749817</th>\n",
       "      <td>66114</td>\n",
       "      <td>43a39462bb330d626ebe2746f569c655</td>\n",
       "      <td>http://data.gdeltproject.org/gdeltv2/202206012...</td>\n",
       "    </tr>\n",
       "    <tr>\n",
       "      <th>749820</th>\n",
       "      <td>71673</td>\n",
       "      <td>73e47f93a243abf6f8e1e60a26f45725</td>\n",
       "      <td>http://data.gdeltproject.org/gdeltv2/202206012...</td>\n",
       "    </tr>\n",
       "    <tr>\n",
       "      <th>749823</th>\n",
       "      <td>67024</td>\n",
       "      <td>bced109c1a8067979e078c676e42a620</td>\n",
       "      <td>http://data.gdeltproject.org/gdeltv2/202206012...</td>\n",
       "    </tr>\n",
       "    <tr>\n",
       "      <th>749826</th>\n",
       "      <td>79330</td>\n",
       "      <td>46bb82b2d64959aea04103cf7d90fd64</td>\n",
       "      <td>http://data.gdeltproject.org/gdeltv2/202206012...</td>\n",
       "    </tr>\n",
       "    <tr>\n",
       "      <th>749829</th>\n",
       "      <td>86093</td>\n",
       "      <td>0ee7698a5f539c65e7720ba070a2185f</td>\n",
       "      <td>http://data.gdeltproject.org/gdeltv2/202206012...</td>\n",
       "    </tr>\n",
       "  </tbody>\n",
       "</table>\n",
       "<p>96 rows × 3 columns</p>\n",
       "</div>"
      ],
      "text/plain": [
       "             0                                 1  \\\n",
       "749544  152466  a6838081ea074f1853b32d26889f0379   \n",
       "749547  139778  611c45161cdf3fc26b1ccef0dea3774b   \n",
       "749550  116579  deab31d4da2d9c0fab7f320e91047020   \n",
       "749553   85662  1ccd0d1bb89c10a82370adf96391b345   \n",
       "749556  103977  6aff19407893185483b47b721c7f256a   \n",
       "...        ...                               ...   \n",
       "749817   66114  43a39462bb330d626ebe2746f569c655   \n",
       "749820   71673  73e47f93a243abf6f8e1e60a26f45725   \n",
       "749823   67024  bced109c1a8067979e078c676e42a620   \n",
       "749826   79330  46bb82b2d64959aea04103cf7d90fd64   \n",
       "749829   86093  0ee7698a5f539c65e7720ba070a2185f   \n",
       "\n",
       "                                                        2  \n",
       "749544  http://data.gdeltproject.org/gdeltv2/202206010...  \n",
       "749547  http://data.gdeltproject.org/gdeltv2/202206010...  \n",
       "749550  http://data.gdeltproject.org/gdeltv2/202206010...  \n",
       "749553  http://data.gdeltproject.org/gdeltv2/202206010...  \n",
       "749556  http://data.gdeltproject.org/gdeltv2/202206010...  \n",
       "...                                                   ...  \n",
       "749817  http://data.gdeltproject.org/gdeltv2/202206012...  \n",
       "749820  http://data.gdeltproject.org/gdeltv2/202206012...  \n",
       "749823  http://data.gdeltproject.org/gdeltv2/202206012...  \n",
       "749826  http://data.gdeltproject.org/gdeltv2/202206012...  \n",
       "749829  http://data.gdeltproject.org/gdeltv2/202206012...  \n",
       "\n",
       "[96 rows x 3 columns]"
      ]
     },
     "execution_count": 10,
     "metadata": {},
     "output_type": "execute_result"
    }
   ],
   "source": [
    "mask_exports = (df[2].str.contains('gdeltv2/20220601', na=False) & df[2].str.contains('export', na=False))\n",
    "df[mask_exports]"
   ]
  },
  {
   "cell_type": "markdown",
   "metadata": {},
   "source": [
    "## Download Methods\n",
    "- Download all files in the master archive file list\n",
    "- Download a specific day\n",
    "- Download over specific range\n",
    "- If updating a local repository, then grab all files from last date in local repo to latest date available online"
   ]
  },
  {
   "cell_type": "code",
   "execution_count": 11,
   "metadata": {},
   "outputs": [],
   "source": [
    "os.mkdir(\"data/\")"
   ]
  },
  {
   "cell_type": "code",
   "execution_count": 13,
   "metadata": {},
   "outputs": [
    {
     "data": {
      "text/plain": [
       "['data', 'gdelt-download.py']"
      ]
     },
     "execution_count": 13,
     "metadata": {},
     "output_type": "execute_result"
    }
   ],
   "source": [
    "os.listdir()"
   ]
  },
  {
   "cell_type": "code",
   "execution_count": 17,
   "metadata": {},
   "outputs": [
    {
     "data": {
      "text/plain": [
       "['http:',\n",
       " '',\n",
       " 'data.gdeltproject.org',\n",
       " 'gdeltv2',\n",
       " '20150218230000.export.CSV.zip']"
      ]
     },
     "execution_count": 17,
     "metadata": {},
     "output_type": "execute_result"
    }
   ],
   "source": [
    "df[2][0].split('/')"
   ]
  },
  {
   "cell_type": "code",
   "execution_count": 24,
   "metadata": {},
   "outputs": [
    {
     "data": {
      "text/plain": [
       "'c:\\\\Users\\\\stark\\\\Documents\\\\Anastria\\\\gdelt-data-pull'"
      ]
     },
     "execution_count": 24,
     "metadata": {},
     "output_type": "execute_result"
    }
   ],
   "source": [
    "a_date = '20220601'\n",
    "main_path = \"c:\\\\Users\\\\stark\\\\Documents\\\\Anastria\\\\gdelt-data-pull\"\n",
    "os.getcwd()"
   ]
  },
  {
   "cell_type": "code",
   "execution_count": 32,
   "metadata": {},
   "outputs": [
    {
     "name": "stdout",
     "output_type": "stream",
     "text": [
      "c:\\Users\\stark\\Documents\\Anastria\\gdelt-data-pull\\20220601\n"
     ]
    },
    {
     "data": {
      "text/plain": [
       "'c:\\\\Users\\\\stark\\\\Documents\\\\Anastria\\\\gdelt-data-pull\\\\20220601\\\\filepath'"
      ]
     },
     "execution_count": 32,
     "metadata": {},
     "output_type": "execute_result"
    }
   ],
   "source": [
    "a_date = '20220601'\n",
    "a_type = 'export'\n",
    "data_path = os.path.join(main_path, f\"{a_date}\")\n",
    "print(data_path)\n",
    "my_string = 'filepath'\n",
    "os.path.join(data_path, my_string)"
   ]
  },
  {
   "cell_type": "code",
   "execution_count": 36,
   "metadata": {},
   "outputs": [
    {
     "name": "stdout",
     "output_type": "stream",
     "text": [
      "c:\\Users\\stark\\Documents\\Anastria\\gdelt-data-pull\\data\\20220601\n"
     ]
    }
   ],
   "source": [
    "data_path = os.path.join(main_path, f\"data\\{a_date}\")\n",
    "print(data_path)"
   ]
  },
  {
   "cell_type": "code",
   "execution_count": 47,
   "metadata": {},
   "outputs": [
    {
     "data": {
      "text/plain": [
       "'20220601020000-export'"
      ]
     },
     "execution_count": 47,
     "metadata": {},
     "output_type": "execute_result"
    }
   ],
   "source": [
    "file_string = '20220601020000.export.CSV.zip'\n",
    "\"-\".join(file_string.split(\".\")[:2])"
   ]
  },
  {
   "cell_type": "markdown",
   "metadata": {},
   "source": [
    "## Functions for Downloading"
   ]
  },
  {
   "cell_type": "code",
   "execution_count": 57,
   "metadata": {},
   "outputs": [
    {
     "data": {
      "application/vnd.jupyter.widget-view+json": {
       "model_id": "89cd266493bc470587f4a3113987b07c",
       "version_major": 2,
       "version_minor": 0
      },
      "text/plain": [
       "20220530 export download progress:   0%|          | 0/96 [00:00<?, ?it/s]"
      ]
     },
     "metadata": {},
     "output_type": "display_data"
    },
    {
     "name": "stdout",
     "output_type": "stream",
     "text": [
      "Download of 20220530 export data complete\n"
     ]
    },
    {
     "data": {
      "text/plain": [
       "'c:\\\\Users\\\\stark\\\\Documents\\\\Anastria\\\\gdelt-data-pull\\\\data\\\\20220530\\\\export'"
      ]
     },
     "execution_count": 57,
     "metadata": {},
     "output_type": "execute_result"
    }
   ],
   "source": [
    "def download_single_day(date: str, master_archive: pd.DataFrame, type: str, dir_path: str):\n",
    "    date_string = \"gdeltv2/\" + date\n",
    "    mask = (master_archive[2].str.contains(date_string, na=False) & master_archive[2].str.contains(type, na=False))\n",
    "    single_day = master_archive[mask]\n",
    "    urls = single_day[2].to_list()\n",
    "    date_path = os.path.join(dir_path, f\"data\\{date}\")\n",
    "    if not os.path.exists(date_path):\n",
    "        os.makedirs(date_path)\n",
    "    type_single_day_path = os.path.join(date_path, f\"{type}\")\n",
    "    if not os.path.exists(type_single_day_path):\n",
    "        os.makedirs(type_single_day_path)\n",
    "    out_path = type_single_day_path\n",
    "    for i in tqdm(range(len(urls)), desc=f\"{date} {type} download progress\"):\n",
    "        wget.download(urls[i], type_single_day_path)\n",
    "    print(f\"Download of {date} {type} data complete\")\n",
    "    return out_path\n",
    "\n",
    "main_path = \"c:\\\\Users\\\\stark\\\\Documents\\\\Anastria\\\\gdelt-data-pull\"\n",
    "download_single_day('20220530', df, 'export', main_path)"
   ]
  },
  {
   "cell_type": "code",
   "execution_count": 12,
   "metadata": {},
   "outputs": [
    {
     "data": {
      "text/plain": [
       "['20220601000000.export.CSV.zip',\n",
       " '20220601001500.export.CSV.zip',\n",
       " '20220601003000.export.CSV.zip',\n",
       " '20220601004500.export.CSV.zip',\n",
       " '20220601010000.export.CSV.zip',\n",
       " '20220601011500.export.CSV.zip',\n",
       " '20220601013000.export.CSV.zip',\n",
       " '20220601014500.export.CSV.zip',\n",
       " '20220601020000.export.CSV.zip',\n",
       " '20220601021500.export.CSV.zip',\n",
       " '20220601023000.export.CSV.zip',\n",
       " '20220601024500.export.CSV.zip',\n",
       " '20220601030000.export.CSV.zip',\n",
       " '20220601031500.export.CSV.zip',\n",
       " '20220601033000.export.CSV.zip',\n",
       " '20220601034500.export.CSV.zip',\n",
       " '20220601040000.export.CSV.zip',\n",
       " '20220601041500.export.CSV.zip',\n",
       " '20220601043000.export.CSV.zip',\n",
       " '20220601044500.export.CSV.zip',\n",
       " '20220601050000.export.CSV.zip',\n",
       " '20220601051500.export.CSV.zip',\n",
       " '20220601053000.export.CSV.zip',\n",
       " '20220601054500.export.CSV.zip',\n",
       " '20220601060000.export.CSV.zip',\n",
       " '20220601061500.export.CSV.zip',\n",
       " '20220601063000.export.CSV.zip',\n",
       " '20220601064500.export.CSV.zip',\n",
       " '20220601070000.export.CSV.zip',\n",
       " '20220601071500.export.CSV.zip',\n",
       " '20220601073000.export.CSV.zip',\n",
       " '20220601074500.export.CSV.zip',\n",
       " '20220601080000.export.CSV.zip',\n",
       " '20220601081500.export.CSV.zip',\n",
       " '20220601083000.export.CSV.zip',\n",
       " '20220601084500.export.CSV.zip',\n",
       " '20220601090000.export.CSV.zip',\n",
       " '20220601091500.export.CSV.zip',\n",
       " '20220601093000.export.CSV.zip',\n",
       " '20220601094500.export.CSV.zip',\n",
       " '20220601100000.export.CSV.zip',\n",
       " '20220601101500.export.CSV.zip',\n",
       " '20220601103000.export.CSV.zip',\n",
       " '20220601104500.export.CSV.zip',\n",
       " '20220601110000.export.CSV.zip',\n",
       " '20220601111500.export.CSV.zip',\n",
       " '20220601113000.export.CSV.zip',\n",
       " '20220601114500.export.CSV.zip',\n",
       " '20220601120000.export.CSV.zip',\n",
       " '20220601121500.export.CSV.zip',\n",
       " '20220601123000.export.CSV.zip',\n",
       " '20220601124500.export.CSV.zip',\n",
       " '20220601130000.export.CSV.zip',\n",
       " '20220601131500.export.CSV.zip',\n",
       " '20220601133000.export.CSV.zip',\n",
       " '20220601134500.export.CSV.zip',\n",
       " '20220601140000.export.CSV.zip',\n",
       " '20220601141500.export.CSV.zip',\n",
       " '20220601143000.export.CSV.zip',\n",
       " '20220601144500.export.CSV.zip',\n",
       " '20220601150000.export.CSV.zip',\n",
       " '20220601151500.export.CSV.zip',\n",
       " '20220601153000.export.CSV.zip',\n",
       " '20220601154500.export.CSV.zip',\n",
       " '20220601160000.export.CSV.zip',\n",
       " '20220601161500.export.CSV.zip',\n",
       " '20220601163000.export.CSV.zip',\n",
       " '20220601164500.export.CSV.zip',\n",
       " '20220601170000.export.CSV.zip',\n",
       " '20220601171500.export.CSV.zip',\n",
       " '20220601173000.export.CSV.zip',\n",
       " '20220601174500.export.CSV.zip',\n",
       " '20220601180000.export.CSV.zip',\n",
       " '20220601181500.export.CSV.zip',\n",
       " '20220601183000.export.CSV.zip',\n",
       " '20220601184500.export.CSV.zip',\n",
       " '20220601190000.export.CSV.zip',\n",
       " '20220601191500.export.CSV.zip',\n",
       " '20220601193000.export.CSV.zip',\n",
       " '20220601194500.export.CSV.zip',\n",
       " '20220601200000.export.CSV.zip',\n",
       " '20220601201500.export.CSV.zip',\n",
       " '20220601203000.export.CSV.zip',\n",
       " '20220601204500.export.CSV.zip',\n",
       " '20220601210000.export.CSV.zip',\n",
       " '20220601211500.export.CSV.zip',\n",
       " '20220601213000.export.CSV.zip',\n",
       " '20220601214500.export.CSV.zip',\n",
       " '20220601220000.export.CSV.zip',\n",
       " '20220601221500.export.CSV.zip',\n",
       " '20220601223000.export.CSV.zip',\n",
       " '20220601224500.export.CSV.zip',\n",
       " '20220601230000.export.CSV.zip',\n",
       " '20220601231500.export.CSV.zip',\n",
       " '20220601233000.export.CSV.zip',\n",
       " '20220601234500.export.CSV.zip']"
      ]
     },
     "execution_count": 12,
     "metadata": {},
     "output_type": "execute_result"
    }
   ],
   "source": [
    "tmp_data_dir = \"c://Users//stark//Documents//Anastria//gdelt-data-pull//data//20220601//export//\"\n",
    "os.listdir(tmp_data_dir)"
   ]
  },
  {
   "cell_type": "code",
   "execution_count": 48,
   "metadata": {},
   "outputs": [],
   "source": [
    "def extract_zip(path: str):\n",
    "    \n",
    "    _EXPORT_COLUMN_NAMES = [\n",
    "                            'GlobalEventID',\n",
    "                            'Day',\n",
    "                            'MonthYear',\n",
    "                            'Year',\n",
    "                            'FractionDate',\n",
    "                            'Actor1Code',\n",
    "                            'Actor1Name',\n",
    "                            'Actor1CountryCode',\n",
    "                            'Actor1KnownGroupCode',\n",
    "                            'Actor1EthnicCode',\n",
    "                            'Actor1Religion1Code',\n",
    "                            'Actor1Religion2Code',\n",
    "                            'Actor1Type1Code',\n",
    "                            'Actor1Type2Code',\n",
    "                            'Actor1Type3Code',\n",
    "                            'Actor2Code',\n",
    "                            'Actor2Name',\n",
    "                            'Actor2CountryCode',\n",
    "                            'Actor2KnownGroupCode',\n",
    "                            'Actor2EthnicCode',\n",
    "                            'Actor2Religion1Code',\n",
    "                            'Actor2Religion2Code',\n",
    "                            'Actor2Type1Code',\n",
    "                            'Actor2Type2Code',\n",
    "                            'Actor2Type3Code',\n",
    "                            'IsRootEvent',\n",
    "                            'EventCode',\n",
    "                            'EventBaseCode',\n",
    "                            'EventRotCode',\n",
    "                            'QuadClass',\n",
    "                            'GoldsteinScale',\n",
    "                            'NumMenions',\n",
    "                            'NumSources',\n",
    "                            'NumArticles',\n",
    "                            'AvgTone',\n",
    "                            'Actor1Geo_Type',\n",
    "                            'Actor1Geo_FullName',\n",
    "                            'Actor1Geo_CountryCode',\n",
    "                            'Actor1Geo_ADM1Code',\n",
    "                            'Actor1Geo_ADM2Code',\n",
    "                            'Actor1Geo_Lat',\n",
    "                            'Actor1Geo_Lon',\n",
    "                            'Actor1Geo_FeatureID',\n",
    "                            'Actor2Geo_Type',\n",
    "                            'Actor2Geo_FullName',\n",
    "                            'Actor2Geo_CountryCode',\n",
    "                            'Actor2Geo_ADM1Code',\n",
    "                            'Actor2Geo_ADM2Code',\n",
    "                            'Actor2Geo_Lat',\n",
    "                            'Actor2Geo_Lon',\n",
    "                            'Actor2Geo_FeatureID',\n",
    "                            'DATEADDED',\n",
    "                            'SOURCEURL'\n",
    "                           ]\n",
    "    _MENTIONS_COLUMN_NAMES = [\n",
    "                              'GlobalEventID',\n",
    "                              'EventTimeDate',\n",
    "                              'MentionTimeDate',\n",
    "                              'MentionType',\n",
    "                              'MentionSourceName',\n",
    "                              'MentionIdentifer',\n",
    "                              'SentenceID',\n",
    "                              'Actor1CharOffset',\n",
    "                              'Actor2CharOffset',\n",
    "                              'ActionCharOffset',\n",
    "                              'InRawText',\n",
    "                              'Confidence',\n",
    "                              'MentionDocLen',\n",
    "                              'MentionDocTone',\n",
    "                              'MentionTranslationInfo',\n",
    "                              'Extras'\n",
    "                             ]\n",
    "    _GKG_COLUMN_NAMES = [\n",
    "                            'GlobalEventID',\n",
    "                            'Day',\n",
    "                            'MonthYear',\n",
    "                            'Year',\n",
    "                            'FractionDate',\n",
    "                            'Actor1Code',\n",
    "                            'Actor1Name',\n",
    "                            'Actor1CountryCode',\n",
    "                            'Actor1KnownGroupCode',\n",
    "                            'Actor1EthnicCode',\n",
    "                            'Actor1Religion1Code',\n",
    "                            'Actor1Religion2Code',\n",
    "                            'Actor1Type1Code',\n",
    "                            'Actor1Type2Code',\n",
    "                            'Actor1Type3Code',\n",
    "                            'Actor2Code',\n",
    "                            'Actor2Name',\n",
    "                            'Actor2CountryCode',\n",
    "                            'Actor2KnownGroupCode',\n",
    "                            'Actor2EthnicCode',\n",
    "                            'Actor2Religion1Code',\n",
    "                            'Actor2Religion2Code',\n",
    "                            'Actor2Type1Code',\n",
    "                            'Actor2Type2Code',\n",
    "                            'Actor2Type3Code',\n",
    "                            'IsRootEvent',\n",
    "                            'EventCode',\n",
    "                            'EventBaseCode',\n",
    "                            'EventRotCode',\n",
    "                            'QuadClass',\n",
    "                            'GoldsteinScale',\n",
    "                            'NumMenions',\n",
    "                            'NumSources',\n",
    "                            'NumArticles',\n",
    "                            'AvgTone',\n",
    "                            'Actor1Geo_Type',\n",
    "                            'Actor1Geo_FullName',\n",
    "                            'Actor1Geo_CountryCode',\n",
    "                            'Actor1Geo_ADM1Code',\n",
    "                            'Actor1Geo_ADM2Code',\n",
    "                            'Actor1Geo_Lat',\n",
    "                            'Actor1Geo_Lon',\n",
    "                            'Actor1Geo_FeatureID',\n",
    "                            'Actor2Geo_Type',\n",
    "                            'Actor2Geo_FullName',\n",
    "                            'Actor2Geo_CountryCode',\n",
    "                            'Actor2Geo_ADM1Code',\n",
    "                            'Actor2Geo_ADM2Code',\n",
    "                            'Actor2Geo_Lat',\n",
    "                            'Actor2Geo_Lon',\n",
    "                            'Actor2Geo_FeatureID',\n",
    "                            'DATEADDED',\n",
    "                            'SOURCEURL'\n",
    "    ]\n",
    "    files = os.listdir(path)\n",
    "    print(f\"Unzipping and saving files as parquet in {path}\")\n",
    "    for i in tqdm(range(len(files)), desc='Unzipping/Saving Progress'):\n",
    "        file = files[i]\n",
    "        file_path = os.path.join(path, file)\n",
    "        save_name = \"-\".join(file.split(\".\")[:2]) + \".parquet\"\n",
    "        extracted_data = pd.read_csv(file_path,\n",
    "                                     compression=\"zip\",\n",
    "                                     header=None,\n",
    "                                     delimiter=\"\\t\",\n",
    "                                     engine='python',\n",
    "                                     encoding_errors='ignore'\n",
    "                                    )\n",
    "        extracted_data.columns = [str(x) for x in extracted_data.columns.to_list()]\n",
    "        extracted_data.to_parquet(os.path.join(path, save_name))\n",
    "    print(\"Unziping and saving completed.\")\n",
    "    print(f\"Removing zip files from {path}\")\n",
    "    for i in tqdm(range(len(files)), desc=\"Removing zipfiles progress\"):\n",
    "        file_to_be_removed_path = os.path.join(path, files[i])\n",
    "        os.remove(file_to_be_removed_path)\n",
    "    print(f\"Zipped files removed in {path}\")\n",
    "\n",
    "#extract_zip(tmp_data_dir)"
   ]
  },
  {
   "cell_type": "code",
   "execution_count": 54,
   "metadata": {},
   "outputs": [
    {
     "data": {
      "text/plain": [
       "['0', '1', '2']"
      ]
     },
     "execution_count": 54,
     "metadata": {},
     "output_type": "execute_result"
    }
   ],
   "source": [
    "[str(x) for x in df.columns.to_list()]"
   ]
  },
  {
   "cell_type": "code",
   "execution_count": 40,
   "metadata": {},
   "outputs": [
    {
     "name": "stdout",
     "output_type": "stream",
     "text": [
      "2022-06-01\n",
      "<class 'datetime.date'>\n",
      "20220601\n",
      "20220602\n",
      "20220603\n"
     ]
    }
   ],
   "source": [
    "from datetime import date, timedelta\n",
    "a_date = '20220601'\n",
    "conv_date = datetime.strptime(a_date, \"%Y%m%d\").date()\n",
    "start_date = conv_date\n",
    "end_date = date(2022, 6, 3)    # perhaps date.now()\n",
    "\n",
    "delta = end_date - start_date   # returns timedelta\n",
    "print(conv_date)\n",
    "print(type(conv_date))\n",
    "for i in range(delta.days + 1):\n",
    "    day = start_date + timedelta(days=i)\n",
    "    day = day.strftime(\"%Y%m%d\")\n",
    "    print(day)"
   ]
  },
  {
   "cell_type": "code",
   "execution_count": 52,
   "metadata": {},
   "outputs": [
    {
     "name": "stdout",
     "output_type": "stream",
     "text": [
      "['20220601', '20220602', '20220603']\n"
     ]
    },
    {
     "data": {
      "application/vnd.jupyter.widget-view+json": {
       "model_id": "5cc0ea99964f484088561f379b4176d5",
       "version_major": 2,
       "version_minor": 0
      },
      "text/plain": [
       "20220601 export download progress:   0%|          | 0/96 [00:00<?, ?it/s]"
      ]
     },
     "metadata": {},
     "output_type": "display_data"
    },
    {
     "name": "stdout",
     "output_type": "stream",
     "text": [
      "Download of 20220601 export data complete\n",
      "Unzipping and saving files as parquet in c:\\Users\\stark\\Documents\\Anastria\\gdelt-data-pull\\data\\20220601\\export\n"
     ]
    },
    {
     "data": {
      "application/vnd.jupyter.widget-view+json": {
       "model_id": "64ecfa403c33467d924c1763d0cfca09",
       "version_major": 2,
       "version_minor": 0
      },
      "text/plain": [
       "Unzipping/Saving Progress:   0%|          | 0/96 [00:00<?, ?it/s]"
      ]
     },
     "metadata": {},
     "output_type": "display_data"
    },
    {
     "name": "stdout",
     "output_type": "stream",
     "text": [
      "Unziping and saving completed.\n",
      "Removing zip files from c:\\Users\\stark\\Documents\\Anastria\\gdelt-data-pull\\data\\20220601\\export\n"
     ]
    },
    {
     "data": {
      "application/vnd.jupyter.widget-view+json": {
       "model_id": "2febbbe8e5764d3d88a885ab3cd58e0f",
       "version_major": 2,
       "version_minor": 0
      },
      "text/plain": [
       "Removing zipfiles progress:   0%|          | 0/96 [00:00<?, ?it/s]"
      ]
     },
     "metadata": {},
     "output_type": "display_data"
    },
    {
     "name": "stdout",
     "output_type": "stream",
     "text": [
      "Zipped files removed in c:\\Users\\stark\\Documents\\Anastria\\gdelt-data-pull\\data\\20220601\\export\n"
     ]
    },
    {
     "data": {
      "application/vnd.jupyter.widget-view+json": {
       "model_id": "00362ac7d9e648ad957adf30c30af9dc",
       "version_major": 2,
       "version_minor": 0
      },
      "text/plain": [
       "20220601 mentions download progress:   0%|          | 0/96 [00:00<?, ?it/s]"
      ]
     },
     "metadata": {},
     "output_type": "display_data"
    },
    {
     "name": "stdout",
     "output_type": "stream",
     "text": [
      "Download of 20220601 mentions data complete\n",
      "Unzipping and saving files as parquet in c:\\Users\\stark\\Documents\\Anastria\\gdelt-data-pull\\data\\20220601\\mentions\n"
     ]
    },
    {
     "data": {
      "application/vnd.jupyter.widget-view+json": {
       "model_id": "b14ce154943e4528b9d0ac105125989a",
       "version_major": 2,
       "version_minor": 0
      },
      "text/plain": [
       "Unzipping/Saving Progress:   0%|          | 0/96 [00:00<?, ?it/s]"
      ]
     },
     "metadata": {},
     "output_type": "display_data"
    },
    {
     "name": "stdout",
     "output_type": "stream",
     "text": [
      "Unziping and saving completed.\n",
      "Removing zip files from c:\\Users\\stark\\Documents\\Anastria\\gdelt-data-pull\\data\\20220601\\mentions\n"
     ]
    },
    {
     "data": {
      "application/vnd.jupyter.widget-view+json": {
       "model_id": "9938b486207f45e4857990ba801fafbf",
       "version_major": 2,
       "version_minor": 0
      },
      "text/plain": [
       "Removing zipfiles progress:   0%|          | 0/96 [00:00<?, ?it/s]"
      ]
     },
     "metadata": {},
     "output_type": "display_data"
    },
    {
     "name": "stdout",
     "output_type": "stream",
     "text": [
      "Zipped files removed in c:\\Users\\stark\\Documents\\Anastria\\gdelt-data-pull\\data\\20220601\\mentions\n"
     ]
    },
    {
     "data": {
      "application/vnd.jupyter.widget-view+json": {
       "model_id": "9acf0472f8124ed0bbfa4bdfb0e07966",
       "version_major": 2,
       "version_minor": 0
      },
      "text/plain": [
       "20220601 gkg download progress:   0%|          | 0/96 [00:00<?, ?it/s]"
      ]
     },
     "metadata": {},
     "output_type": "display_data"
    },
    {
     "name": "stdout",
     "output_type": "stream",
     "text": [
      "Download of 20220601 gkg data complete\n",
      "Unzipping and saving files as parquet in c:\\Users\\stark\\Documents\\Anastria\\gdelt-data-pull\\data\\20220601\\gkg\n"
     ]
    },
    {
     "data": {
      "application/vnd.jupyter.widget-view+json": {
       "model_id": "f07b8a7ea2034744b5227ac0df95d91d",
       "version_major": 2,
       "version_minor": 0
      },
      "text/plain": [
       "Unzipping/Saving Progress:   0%|          | 0/96 [00:00<?, ?it/s]"
      ]
     },
     "metadata": {},
     "output_type": "display_data"
    },
    {
     "name": "stdout",
     "output_type": "stream",
     "text": [
      "Unziping and saving completed.\n",
      "Removing zip files from c:\\Users\\stark\\Documents\\Anastria\\gdelt-data-pull\\data\\20220601\\gkg\n"
     ]
    },
    {
     "data": {
      "application/vnd.jupyter.widget-view+json": {
       "model_id": "fcbc0e3d71034af5b4b912da6bba7049",
       "version_major": 2,
       "version_minor": 0
      },
      "text/plain": [
       "Removing zipfiles progress:   0%|          | 0/96 [00:00<?, ?it/s]"
      ]
     },
     "metadata": {},
     "output_type": "display_data"
    },
    {
     "name": "stdout",
     "output_type": "stream",
     "text": [
      "Zipped files removed in c:\\Users\\stark\\Documents\\Anastria\\gdelt-data-pull\\data\\20220601\\gkg\n"
     ]
    },
    {
     "data": {
      "application/vnd.jupyter.widget-view+json": {
       "model_id": "54a5becde5b64683a94d6e0c594ec23d",
       "version_major": 2,
       "version_minor": 0
      },
      "text/plain": [
       "20220602 export download progress:   0%|          | 0/96 [00:00<?, ?it/s]"
      ]
     },
     "metadata": {},
     "output_type": "display_data"
    },
    {
     "name": "stdout",
     "output_type": "stream",
     "text": [
      "Download of 20220602 export data complete\n",
      "Unzipping and saving files as parquet in c:\\Users\\stark\\Documents\\Anastria\\gdelt-data-pull\\data\\20220602\\export\n"
     ]
    },
    {
     "data": {
      "application/vnd.jupyter.widget-view+json": {
       "model_id": "5b25166ed9ab4b9f9fedd9985a82e77e",
       "version_major": 2,
       "version_minor": 0
      },
      "text/plain": [
       "Unzipping/Saving Progress:   0%|          | 0/96 [00:00<?, ?it/s]"
      ]
     },
     "metadata": {},
     "output_type": "display_data"
    },
    {
     "name": "stdout",
     "output_type": "stream",
     "text": [
      "Unziping and saving completed.\n",
      "Removing zip files from c:\\Users\\stark\\Documents\\Anastria\\gdelt-data-pull\\data\\20220602\\export\n"
     ]
    },
    {
     "data": {
      "application/vnd.jupyter.widget-view+json": {
       "model_id": "d33ed9c28be64bdfa6fec7da93b95894",
       "version_major": 2,
       "version_minor": 0
      },
      "text/plain": [
       "Removing zipfiles progress:   0%|          | 0/96 [00:00<?, ?it/s]"
      ]
     },
     "metadata": {},
     "output_type": "display_data"
    },
    {
     "name": "stdout",
     "output_type": "stream",
     "text": [
      "Zipped files removed in c:\\Users\\stark\\Documents\\Anastria\\gdelt-data-pull\\data\\20220602\\export\n"
     ]
    },
    {
     "data": {
      "application/vnd.jupyter.widget-view+json": {
       "model_id": "a2602d1206984f46ac9a6d2f70b8ecfb",
       "version_major": 2,
       "version_minor": 0
      },
      "text/plain": [
       "20220602 mentions download progress:   0%|          | 0/96 [00:00<?, ?it/s]"
      ]
     },
     "metadata": {},
     "output_type": "display_data"
    },
    {
     "name": "stdout",
     "output_type": "stream",
     "text": [
      "Download of 20220602 mentions data complete\n",
      "Unzipping and saving files as parquet in c:\\Users\\stark\\Documents\\Anastria\\gdelt-data-pull\\data\\20220602\\mentions\n"
     ]
    },
    {
     "data": {
      "application/vnd.jupyter.widget-view+json": {
       "model_id": "ee55b87fbf384bc59a18f51e4c1756a0",
       "version_major": 2,
       "version_minor": 0
      },
      "text/plain": [
       "Unzipping/Saving Progress:   0%|          | 0/96 [00:00<?, ?it/s]"
      ]
     },
     "metadata": {},
     "output_type": "display_data"
    },
    {
     "name": "stdout",
     "output_type": "stream",
     "text": [
      "Unziping and saving completed.\n",
      "Removing zip files from c:\\Users\\stark\\Documents\\Anastria\\gdelt-data-pull\\data\\20220602\\mentions\n"
     ]
    },
    {
     "data": {
      "application/vnd.jupyter.widget-view+json": {
       "model_id": "a36d0600dfc54854b576a8e813043e97",
       "version_major": 2,
       "version_minor": 0
      },
      "text/plain": [
       "Removing zipfiles progress:   0%|          | 0/96 [00:00<?, ?it/s]"
      ]
     },
     "metadata": {},
     "output_type": "display_data"
    },
    {
     "name": "stdout",
     "output_type": "stream",
     "text": [
      "Zipped files removed in c:\\Users\\stark\\Documents\\Anastria\\gdelt-data-pull\\data\\20220602\\mentions\n"
     ]
    },
    {
     "data": {
      "application/vnd.jupyter.widget-view+json": {
       "model_id": "bef156264e5443dca71066295d1e89f3",
       "version_major": 2,
       "version_minor": 0
      },
      "text/plain": [
       "20220602 gkg download progress:   0%|          | 0/96 [00:00<?, ?it/s]"
      ]
     },
     "metadata": {},
     "output_type": "display_data"
    },
    {
     "name": "stdout",
     "output_type": "stream",
     "text": [
      "Download of 20220602 gkg data complete\n",
      "Unzipping and saving files as parquet in c:\\Users\\stark\\Documents\\Anastria\\gdelt-data-pull\\data\\20220602\\gkg\n"
     ]
    },
    {
     "data": {
      "application/vnd.jupyter.widget-view+json": {
       "model_id": "3bed4bf2b04944e08e1acd4ebcc32a55",
       "version_major": 2,
       "version_minor": 0
      },
      "text/plain": [
       "Unzipping/Saving Progress:   0%|          | 0/96 [00:00<?, ?it/s]"
      ]
     },
     "metadata": {},
     "output_type": "display_data"
    },
    {
     "name": "stdout",
     "output_type": "stream",
     "text": [
      "Unziping and saving completed.\n",
      "Removing zip files from c:\\Users\\stark\\Documents\\Anastria\\gdelt-data-pull\\data\\20220602\\gkg\n"
     ]
    },
    {
     "data": {
      "application/vnd.jupyter.widget-view+json": {
       "model_id": "03dea7b9f19a48fb81915b39e43a5689",
       "version_major": 2,
       "version_minor": 0
      },
      "text/plain": [
       "Removing zipfiles progress:   0%|          | 0/96 [00:00<?, ?it/s]"
      ]
     },
     "metadata": {},
     "output_type": "display_data"
    },
    {
     "name": "stdout",
     "output_type": "stream",
     "text": [
      "Zipped files removed in c:\\Users\\stark\\Documents\\Anastria\\gdelt-data-pull\\data\\20220602\\gkg\n"
     ]
    },
    {
     "data": {
      "application/vnd.jupyter.widget-view+json": {
       "model_id": "0e5c41b5a7ff41a799f8bfb634d7a79c",
       "version_major": 2,
       "version_minor": 0
      },
      "text/plain": [
       "20220603 export download progress:   0%|          | 0/96 [00:00<?, ?it/s]"
      ]
     },
     "metadata": {},
     "output_type": "display_data"
    },
    {
     "name": "stdout",
     "output_type": "stream",
     "text": [
      "Download of 20220603 export data complete\n",
      "Unzipping and saving files as parquet in c:\\Users\\stark\\Documents\\Anastria\\gdelt-data-pull\\data\\20220603\\export\n"
     ]
    },
    {
     "data": {
      "application/vnd.jupyter.widget-view+json": {
       "model_id": "1de50f03f9464fc695daf829d20dfc73",
       "version_major": 2,
       "version_minor": 0
      },
      "text/plain": [
       "Unzipping/Saving Progress:   0%|          | 0/96 [00:00<?, ?it/s]"
      ]
     },
     "metadata": {},
     "output_type": "display_data"
    },
    {
     "name": "stdout",
     "output_type": "stream",
     "text": [
      "Unziping and saving completed.\n",
      "Removing zip files from c:\\Users\\stark\\Documents\\Anastria\\gdelt-data-pull\\data\\20220603\\export\n"
     ]
    },
    {
     "data": {
      "application/vnd.jupyter.widget-view+json": {
       "model_id": "a94f9549c46e43e193c2a9bef13e984e",
       "version_major": 2,
       "version_minor": 0
      },
      "text/plain": [
       "Removing zipfiles progress:   0%|          | 0/96 [00:00<?, ?it/s]"
      ]
     },
     "metadata": {},
     "output_type": "display_data"
    },
    {
     "name": "stdout",
     "output_type": "stream",
     "text": [
      "Zipped files removed in c:\\Users\\stark\\Documents\\Anastria\\gdelt-data-pull\\data\\20220603\\export\n"
     ]
    },
    {
     "data": {
      "application/vnd.jupyter.widget-view+json": {
       "model_id": "61b22fe8c13d48df91e19065a2fd0ffc",
       "version_major": 2,
       "version_minor": 0
      },
      "text/plain": [
       "20220603 mentions download progress:   0%|          | 0/96 [00:00<?, ?it/s]"
      ]
     },
     "metadata": {},
     "output_type": "display_data"
    },
    {
     "name": "stdout",
     "output_type": "stream",
     "text": [
      "Download of 20220603 mentions data complete\n",
      "Unzipping and saving files as parquet in c:\\Users\\stark\\Documents\\Anastria\\gdelt-data-pull\\data\\20220603\\mentions\n"
     ]
    },
    {
     "data": {
      "application/vnd.jupyter.widget-view+json": {
       "model_id": "4ad47326af124daa9953c7680ae2d733",
       "version_major": 2,
       "version_minor": 0
      },
      "text/plain": [
       "Unzipping/Saving Progress:   0%|          | 0/96 [00:00<?, ?it/s]"
      ]
     },
     "metadata": {},
     "output_type": "display_data"
    },
    {
     "name": "stdout",
     "output_type": "stream",
     "text": [
      "Unziping and saving completed.\n",
      "Removing zip files from c:\\Users\\stark\\Documents\\Anastria\\gdelt-data-pull\\data\\20220603\\mentions\n"
     ]
    },
    {
     "data": {
      "application/vnd.jupyter.widget-view+json": {
       "model_id": "01aa496306ef4fc497d3accdbde9df15",
       "version_major": 2,
       "version_minor": 0
      },
      "text/plain": [
       "Removing zipfiles progress:   0%|          | 0/96 [00:00<?, ?it/s]"
      ]
     },
     "metadata": {},
     "output_type": "display_data"
    },
    {
     "name": "stdout",
     "output_type": "stream",
     "text": [
      "Zipped files removed in c:\\Users\\stark\\Documents\\Anastria\\gdelt-data-pull\\data\\20220603\\mentions\n"
     ]
    },
    {
     "data": {
      "application/vnd.jupyter.widget-view+json": {
       "model_id": "e0da9405734344f4b90f5c24d8e6c7a8",
       "version_major": 2,
       "version_minor": 0
      },
      "text/plain": [
       "20220603 gkg download progress:   0%|          | 0/96 [00:00<?, ?it/s]"
      ]
     },
     "metadata": {},
     "output_type": "display_data"
    },
    {
     "name": "stdout",
     "output_type": "stream",
     "text": [
      "Download of 20220603 gkg data complete\n",
      "Unzipping and saving files as parquet in c:\\Users\\stark\\Documents\\Anastria\\gdelt-data-pull\\data\\20220603\\gkg\n"
     ]
    },
    {
     "data": {
      "application/vnd.jupyter.widget-view+json": {
       "model_id": "16c53ffc2e5f4c77bbd74dcbd3957600",
       "version_major": 2,
       "version_minor": 0
      },
      "text/plain": [
       "Unzipping/Saving Progress:   0%|          | 0/96 [00:00<?, ?it/s]"
      ]
     },
     "metadata": {},
     "output_type": "display_data"
    },
    {
     "name": "stdout",
     "output_type": "stream",
     "text": [
      "Unziping and saving completed.\n",
      "Removing zip files from c:\\Users\\stark\\Documents\\Anastria\\gdelt-data-pull\\data\\20220603\\gkg\n"
     ]
    },
    {
     "data": {
      "application/vnd.jupyter.widget-view+json": {
       "model_id": "035d33b8feed4c8ba010af997fb2049b",
       "version_major": 2,
       "version_minor": 0
      },
      "text/plain": [
       "Removing zipfiles progress:   0%|          | 0/96 [00:00<?, ?it/s]"
      ]
     },
     "metadata": {},
     "output_type": "display_data"
    },
    {
     "name": "stdout",
     "output_type": "stream",
     "text": [
      "Zipped files removed in c:\\Users\\stark\\Documents\\Anastria\\gdelt-data-pull\\data\\20220603\\gkg\n"
     ]
    }
   ],
   "source": [
    "def download_date_range(start_date: str, end_date: str, master_archive: pd.DataFrame, dir_path: str):\n",
    "    \n",
    "    start_dt = datetime.strptime(start_date, \"%Y%m%d\").date()\n",
    "    end_dt = datetime.strptime(end_date, \"%Y%m%d\").date()\n",
    "    t_delta = end_dt - start_dt\n",
    "    days = []\n",
    "    for i in range(delta.days + 1):\n",
    "        day = start_dt + timedelta(days=i)\n",
    "        day = day.strftime(\"%Y%m%d\")\n",
    "        days.append(day)\n",
    "    print(days)\n",
    "    for day in days:\n",
    "        day_export_path = download_single_day(day, master_archive, 'export', dir_path)\n",
    "        extract_zip(path=day_export_path)\n",
    "        day_mentions_path = download_single_day(day, master_archive, 'mentions', dir_path)\n",
    "        extract_zip(path=day_mentions_path)\n",
    "        day_gkg_path = download_single_day(day, master_archive, 'gkg', dir_path)\n",
    "        extract_zip(path=day_gkg_path)\n",
    "\n",
    "\n",
    "main_path = \"c:\\\\Users\\\\stark\\\\Documents\\\\Anastria\\\\gdelt-data-pull\"\n",
    "download_date_range(start_date='20220601',\n",
    "                    end_date='20220602',\n",
    "                    master_archive=df,\n",
    "                    dir_path=main_path)"
   ]
  },
  {
   "cell_type": "code",
   "execution_count": 53,
   "metadata": {},
   "outputs": [
    {
     "data": {
      "text/plain": [
       "'c:\\\\Users\\\\stark\\\\Documents\\\\Anastria\\\\gdelt-data-pull'"
      ]
     },
     "execution_count": 53,
     "metadata": {},
     "output_type": "execute_result"
    }
   ],
   "source": [
    "os.getcwd()"
   ]
  },
  {
   "cell_type": "code",
   "execution_count": 56,
   "metadata": {},
   "outputs": [
    {
     "data": {
      "text/html": [
       "<div>\n",
       "<style scoped>\n",
       "    .dataframe tbody tr th:only-of-type {\n",
       "        vertical-align: middle;\n",
       "    }\n",
       "\n",
       "    .dataframe tbody tr th {\n",
       "        vertical-align: top;\n",
       "    }\n",
       "\n",
       "    .dataframe thead th {\n",
       "        text-align: right;\n",
       "    }\n",
       "</style>\n",
       "<table border=\"1\" class=\"dataframe\">\n",
       "  <thead>\n",
       "    <tr style=\"text-align: right;\">\n",
       "      <th></th>\n",
       "      <th>0</th>\n",
       "      <th>1</th>\n",
       "      <th>2</th>\n",
       "      <th>3</th>\n",
       "      <th>4</th>\n",
       "      <th>5</th>\n",
       "      <th>6</th>\n",
       "      <th>7</th>\n",
       "      <th>8</th>\n",
       "      <th>9</th>\n",
       "      <th>10</th>\n",
       "      <th>11</th>\n",
       "      <th>12</th>\n",
       "      <th>13</th>\n",
       "      <th>14</th>\n",
       "      <th>15</th>\n",
       "      <th>16</th>\n",
       "      <th>17</th>\n",
       "      <th>18</th>\n",
       "      <th>19</th>\n",
       "      <th>20</th>\n",
       "      <th>21</th>\n",
       "      <th>22</th>\n",
       "      <th>23</th>\n",
       "      <th>24</th>\n",
       "      <th>25</th>\n",
       "      <th>26</th>\n",
       "      <th>27</th>\n",
       "      <th>28</th>\n",
       "      <th>29</th>\n",
       "      <th>30</th>\n",
       "      <th>31</th>\n",
       "      <th>32</th>\n",
       "      <th>33</th>\n",
       "      <th>34</th>\n",
       "      <th>35</th>\n",
       "      <th>36</th>\n",
       "      <th>37</th>\n",
       "      <th>38</th>\n",
       "      <th>39</th>\n",
       "      <th>40</th>\n",
       "      <th>41</th>\n",
       "      <th>42</th>\n",
       "      <th>43</th>\n",
       "      <th>44</th>\n",
       "      <th>45</th>\n",
       "      <th>46</th>\n",
       "      <th>47</th>\n",
       "      <th>48</th>\n",
       "      <th>49</th>\n",
       "      <th>50</th>\n",
       "      <th>51</th>\n",
       "      <th>52</th>\n",
       "      <th>53</th>\n",
       "      <th>54</th>\n",
       "      <th>55</th>\n",
       "      <th>56</th>\n",
       "      <th>57</th>\n",
       "      <th>58</th>\n",
       "      <th>59</th>\n",
       "      <th>60</th>\n",
       "    </tr>\n",
       "  </thead>\n",
       "  <tbody>\n",
       "    <tr>\n",
       "      <th>0</th>\n",
       "      <td>1047200008</td>\n",
       "      <td>20210601</td>\n",
       "      <td>202106</td>\n",
       "      <td>2021</td>\n",
       "      <td>2021.4137</td>\n",
       "      <td>IGOUNO</td>\n",
       "      <td>UNITED NATIONS</td>\n",
       "      <td>None</td>\n",
       "      <td>UNO</td>\n",
       "      <td>None</td>\n",
       "      <td>None</td>\n",
       "      <td>None</td>\n",
       "      <td>IGO</td>\n",
       "      <td>None</td>\n",
       "      <td>None</td>\n",
       "      <td>None</td>\n",
       "      <td>None</td>\n",
       "      <td>None</td>\n",
       "      <td>None</td>\n",
       "      <td>None</td>\n",
       "      <td>None</td>\n",
       "      <td>None</td>\n",
       "      <td>None</td>\n",
       "      <td>None</td>\n",
       "      <td>NaN</td>\n",
       "      <td>0</td>\n",
       "      <td>10</td>\n",
       "      <td>10</td>\n",
       "      <td>1</td>\n",
       "      <td>1</td>\n",
       "      <td>0.0</td>\n",
       "      <td>10</td>\n",
       "      <td>2</td>\n",
       "      <td>10</td>\n",
       "      <td>3.030303</td>\n",
       "      <td>3</td>\n",
       "      <td>White House, District of Columbia, United States</td>\n",
       "      <td>US</td>\n",
       "      <td>USDC</td>\n",
       "      <td>None</td>\n",
       "      <td>38.895100</td>\n",
       "      <td>-77.0364</td>\n",
       "      <td>531871</td>\n",
       "      <td>0</td>\n",
       "      <td>None</td>\n",
       "      <td>None</td>\n",
       "      <td>None</td>\n",
       "      <td>None</td>\n",
       "      <td>NaN</td>\n",
       "      <td>NaN</td>\n",
       "      <td>None</td>\n",
       "      <td>3</td>\n",
       "      <td>White House, District of Columbia, United States</td>\n",
       "      <td>US</td>\n",
       "      <td>USDC</td>\n",
       "      <td>None</td>\n",
       "      <td>38.895100</td>\n",
       "      <td>-77.0364</td>\n",
       "      <td>531871</td>\n",
       "      <td>20220601000000</td>\n",
       "      <td>https://943thepoint.com/bts-full-white-house-s...</td>\n",
       "    </tr>\n",
       "    <tr>\n",
       "      <th>1</th>\n",
       "      <td>1047200009</td>\n",
       "      <td>20210601</td>\n",
       "      <td>202106</td>\n",
       "      <td>2021</td>\n",
       "      <td>2021.4137</td>\n",
       "      <td>JEW</td>\n",
       "      <td>JEWISH</td>\n",
       "      <td>None</td>\n",
       "      <td>None</td>\n",
       "      <td>None</td>\n",
       "      <td>JEW</td>\n",
       "      <td>None</td>\n",
       "      <td>None</td>\n",
       "      <td>None</td>\n",
       "      <td>None</td>\n",
       "      <td>NMR</td>\n",
       "      <td>NORTH AMERICA</td>\n",
       "      <td>NMR</td>\n",
       "      <td>None</td>\n",
       "      <td>None</td>\n",
       "      <td>None</td>\n",
       "      <td>None</td>\n",
       "      <td>None</td>\n",
       "      <td>None</td>\n",
       "      <td>NaN</td>\n",
       "      <td>0</td>\n",
       "      <td>71</td>\n",
       "      <td>71</td>\n",
       "      <td>7</td>\n",
       "      <td>2</td>\n",
       "      <td>7.4</td>\n",
       "      <td>1</td>\n",
       "      <td>1</td>\n",
       "      <td>1</td>\n",
       "      <td>0.377358</td>\n",
       "      <td>4</td>\n",
       "      <td>Jerusalem, Israel (general), Israel</td>\n",
       "      <td>IS</td>\n",
       "      <td>IS00</td>\n",
       "      <td>18315</td>\n",
       "      <td>31.766700</td>\n",
       "      <td>35.2333</td>\n",
       "      <td>-797092</td>\n",
       "      <td>4</td>\n",
       "      <td>Jerusalem, Israel (general), Israel</td>\n",
       "      <td>IS</td>\n",
       "      <td>IS00</td>\n",
       "      <td>18315</td>\n",
       "      <td>31.7667</td>\n",
       "      <td>35.2333</td>\n",
       "      <td>-797092</td>\n",
       "      <td>4</td>\n",
       "      <td>Gondar, Amara, Ethiopia</td>\n",
       "      <td>ET</td>\n",
       "      <td>ET46</td>\n",
       "      <td>149280</td>\n",
       "      <td>12.600000</td>\n",
       "      <td>37.4667</td>\n",
       "      <td>-612097</td>\n",
       "      <td>20220601000000</td>\n",
       "      <td>https://www.clevelandjewishnews.com/jta/after-...</td>\n",
       "    </tr>\n",
       "    <tr>\n",
       "      <th>2</th>\n",
       "      <td>1047200010</td>\n",
       "      <td>20210601</td>\n",
       "      <td>202106</td>\n",
       "      <td>2021</td>\n",
       "      <td>2021.4137</td>\n",
       "      <td>MED</td>\n",
       "      <td>MEDIA</td>\n",
       "      <td>None</td>\n",
       "      <td>None</td>\n",
       "      <td>None</td>\n",
       "      <td>None</td>\n",
       "      <td>None</td>\n",
       "      <td>MED</td>\n",
       "      <td>None</td>\n",
       "      <td>None</td>\n",
       "      <td>JUD</td>\n",
       "      <td>FEDERAL JUDGE</td>\n",
       "      <td>None</td>\n",
       "      <td>None</td>\n",
       "      <td>None</td>\n",
       "      <td>None</td>\n",
       "      <td>None</td>\n",
       "      <td>JUD</td>\n",
       "      <td>None</td>\n",
       "      <td>NaN</td>\n",
       "      <td>0</td>\n",
       "      <td>190</td>\n",
       "      <td>190</td>\n",
       "      <td>19</td>\n",
       "      <td>4</td>\n",
       "      <td>-10.0</td>\n",
       "      <td>10</td>\n",
       "      <td>1</td>\n",
       "      <td>10</td>\n",
       "      <td>-3.501401</td>\n",
       "      <td>2</td>\n",
       "      <td>Florida, United States</td>\n",
       "      <td>US</td>\n",
       "      <td>USFL</td>\n",
       "      <td>None</td>\n",
       "      <td>27.833300</td>\n",
       "      <td>-81.7170</td>\n",
       "      <td>FL</td>\n",
       "      <td>2</td>\n",
       "      <td>Florida, United States</td>\n",
       "      <td>US</td>\n",
       "      <td>USFL</td>\n",
       "      <td>None</td>\n",
       "      <td>27.8333</td>\n",
       "      <td>-81.7170</td>\n",
       "      <td>FL</td>\n",
       "      <td>2</td>\n",
       "      <td>Florida, United States</td>\n",
       "      <td>US</td>\n",
       "      <td>USFL</td>\n",
       "      <td>None</td>\n",
       "      <td>27.833300</td>\n",
       "      <td>-81.7170</td>\n",
       "      <td>FL</td>\n",
       "      <td>20220601000000</td>\n",
       "      <td>https://www.houstonchronicle.com/politics/texa...</td>\n",
       "    </tr>\n",
       "    <tr>\n",
       "      <th>3</th>\n",
       "      <td>1047200011</td>\n",
       "      <td>20210601</td>\n",
       "      <td>202106</td>\n",
       "      <td>2021</td>\n",
       "      <td>2021.4137</td>\n",
       "      <td>SGP</td>\n",
       "      <td>SINGAPORE</td>\n",
       "      <td>SGP</td>\n",
       "      <td>None</td>\n",
       "      <td>None</td>\n",
       "      <td>None</td>\n",
       "      <td>None</td>\n",
       "      <td>None</td>\n",
       "      <td>None</td>\n",
       "      <td>None</td>\n",
       "      <td>MYS</td>\n",
       "      <td>MALAYSIA</td>\n",
       "      <td>MYS</td>\n",
       "      <td>None</td>\n",
       "      <td>None</td>\n",
       "      <td>None</td>\n",
       "      <td>None</td>\n",
       "      <td>None</td>\n",
       "      <td>None</td>\n",
       "      <td>NaN</td>\n",
       "      <td>0</td>\n",
       "      <td>61</td>\n",
       "      <td>61</td>\n",
       "      <td>6</td>\n",
       "      <td>2</td>\n",
       "      <td>6.4</td>\n",
       "      <td>2</td>\n",
       "      <td>1</td>\n",
       "      <td>2</td>\n",
       "      <td>-3.647416</td>\n",
       "      <td>4</td>\n",
       "      <td>Johor, Johor, Malaysia</td>\n",
       "      <td>MY</td>\n",
       "      <td>MY01</td>\n",
       "      <td>18585</td>\n",
       "      <td>1.465500</td>\n",
       "      <td>103.7580</td>\n",
       "      <td>-2405456</td>\n",
       "      <td>4</td>\n",
       "      <td>Johor, Johor, Malaysia</td>\n",
       "      <td>MY</td>\n",
       "      <td>MY01</td>\n",
       "      <td>18585</td>\n",
       "      <td>1.4655</td>\n",
       "      <td>103.7580</td>\n",
       "      <td>-2405456</td>\n",
       "      <td>1</td>\n",
       "      <td>Singapore</td>\n",
       "      <td>SN</td>\n",
       "      <td>SN</td>\n",
       "      <td>None</td>\n",
       "      <td>1.366667</td>\n",
       "      <td>103.8000</td>\n",
       "      <td>SN</td>\n",
       "      <td>20220601000000</td>\n",
       "      <td>https://www.efeedlink.com/contents/06-01-2022/...</td>\n",
       "    </tr>\n",
       "    <tr>\n",
       "      <th>4</th>\n",
       "      <td>1047200012</td>\n",
       "      <td>20210601</td>\n",
       "      <td>202106</td>\n",
       "      <td>2021</td>\n",
       "      <td>2021.4137</td>\n",
       "      <td>SGP</td>\n",
       "      <td>SINGAPORE</td>\n",
       "      <td>SGP</td>\n",
       "      <td>None</td>\n",
       "      <td>None</td>\n",
       "      <td>None</td>\n",
       "      <td>None</td>\n",
       "      <td>None</td>\n",
       "      <td>None</td>\n",
       "      <td>None</td>\n",
       "      <td>MYS</td>\n",
       "      <td>MALAYSIA</td>\n",
       "      <td>MYS</td>\n",
       "      <td>None</td>\n",
       "      <td>None</td>\n",
       "      <td>None</td>\n",
       "      <td>None</td>\n",
       "      <td>None</td>\n",
       "      <td>None</td>\n",
       "      <td>NaN</td>\n",
       "      <td>0</td>\n",
       "      <td>61</td>\n",
       "      <td>61</td>\n",
       "      <td>6</td>\n",
       "      <td>2</td>\n",
       "      <td>6.4</td>\n",
       "      <td>8</td>\n",
       "      <td>1</td>\n",
       "      <td>8</td>\n",
       "      <td>-3.647416</td>\n",
       "      <td>1</td>\n",
       "      <td>Singapore</td>\n",
       "      <td>SN</td>\n",
       "      <td>SN</td>\n",
       "      <td>None</td>\n",
       "      <td>1.366667</td>\n",
       "      <td>103.8000</td>\n",
       "      <td>SN</td>\n",
       "      <td>4</td>\n",
       "      <td>Johor, Johor, Malaysia</td>\n",
       "      <td>MY</td>\n",
       "      <td>MY01</td>\n",
       "      <td>18585</td>\n",
       "      <td>1.4655</td>\n",
       "      <td>103.7580</td>\n",
       "      <td>-2405456</td>\n",
       "      <td>1</td>\n",
       "      <td>Singapore</td>\n",
       "      <td>SN</td>\n",
       "      <td>SN</td>\n",
       "      <td>None</td>\n",
       "      <td>1.366667</td>\n",
       "      <td>103.8000</td>\n",
       "      <td>SN</td>\n",
       "      <td>20220601000000</td>\n",
       "      <td>https://www.efeedlink.com/contents/06-01-2022/...</td>\n",
       "    </tr>\n",
       "  </tbody>\n",
       "</table>\n",
       "</div>"
      ],
      "text/plain": [
       "            0         1       2     3          4       5               6  \\\n",
       "0  1047200008  20210601  202106  2021  2021.4137  IGOUNO  UNITED NATIONS   \n",
       "1  1047200009  20210601  202106  2021  2021.4137     JEW          JEWISH   \n",
       "2  1047200010  20210601  202106  2021  2021.4137     MED           MEDIA   \n",
       "3  1047200011  20210601  202106  2021  2021.4137     SGP       SINGAPORE   \n",
       "4  1047200012  20210601  202106  2021  2021.4137     SGP       SINGAPORE   \n",
       "\n",
       "      7     8     9    10    11    12    13    14    15             16    17  \\\n",
       "0  None   UNO  None  None  None   IGO  None  None  None           None  None   \n",
       "1  None  None  None   JEW  None  None  None  None   NMR  NORTH AMERICA   NMR   \n",
       "2  None  None  None  None  None   MED  None  None   JUD  FEDERAL JUDGE  None   \n",
       "3   SGP  None  None  None  None  None  None  None   MYS       MALAYSIA   MYS   \n",
       "4   SGP  None  None  None  None  None  None  None   MYS       MALAYSIA   MYS   \n",
       "\n",
       "     18    19    20    21    22    23  24  25   26   27  28  29    30  31  32  \\\n",
       "0  None  None  None  None  None  None NaN   0   10   10   1   1   0.0  10   2   \n",
       "1  None  None  None  None  None  None NaN   0   71   71   7   2   7.4   1   1   \n",
       "2  None  None  None  None   JUD  None NaN   0  190  190  19   4 -10.0  10   1   \n",
       "3  None  None  None  None  None  None NaN   0   61   61   6   2   6.4   2   1   \n",
       "4  None  None  None  None  None  None NaN   0   61   61   6   2   6.4   8   1   \n",
       "\n",
       "   33        34  35                                                36  37  \\\n",
       "0  10  3.030303   3  White House, District of Columbia, United States  US   \n",
       "1   1  0.377358   4               Jerusalem, Israel (general), Israel  IS   \n",
       "2  10 -3.501401   2                            Florida, United States  US   \n",
       "3   2 -3.647416   4                            Johor, Johor, Malaysia  MY   \n",
       "4   8 -3.647416   1                                         Singapore  SN   \n",
       "\n",
       "     38     39         40        41        42  43  \\\n",
       "0  USDC   None  38.895100  -77.0364    531871   0   \n",
       "1  IS00  18315  31.766700   35.2333   -797092   4   \n",
       "2  USFL   None  27.833300  -81.7170        FL   2   \n",
       "3  MY01  18585   1.465500  103.7580  -2405456   4   \n",
       "4    SN   None   1.366667  103.8000        SN   4   \n",
       "\n",
       "                                    44    45    46     47       48        49  \\\n",
       "0                                 None  None  None   None      NaN       NaN   \n",
       "1  Jerusalem, Israel (general), Israel    IS  IS00  18315  31.7667   35.2333   \n",
       "2               Florida, United States    US  USFL   None  27.8333  -81.7170   \n",
       "3               Johor, Johor, Malaysia    MY  MY01  18585   1.4655  103.7580   \n",
       "4               Johor, Johor, Malaysia    MY  MY01  18585   1.4655  103.7580   \n",
       "\n",
       "         50  51                                                52  53    54  \\\n",
       "0      None   3  White House, District of Columbia, United States  US  USDC   \n",
       "1   -797092   4                           Gondar, Amara, Ethiopia  ET  ET46   \n",
       "2        FL   2                            Florida, United States  US  USFL   \n",
       "3  -2405456   1                                         Singapore  SN    SN   \n",
       "4  -2405456   1                                         Singapore  SN    SN   \n",
       "\n",
       "       55         56        57       58              59  \\\n",
       "0    None  38.895100  -77.0364   531871  20220601000000   \n",
       "1  149280  12.600000   37.4667  -612097  20220601000000   \n",
       "2    None  27.833300  -81.7170       FL  20220601000000   \n",
       "3    None   1.366667  103.8000       SN  20220601000000   \n",
       "4    None   1.366667  103.8000       SN  20220601000000   \n",
       "\n",
       "                                                  60  \n",
       "0  https://943thepoint.com/bts-full-white-house-s...  \n",
       "1  https://www.clevelandjewishnews.com/jta/after-...  \n",
       "2  https://www.houstonchronicle.com/politics/texa...  \n",
       "3  https://www.efeedlink.com/contents/06-01-2022/...  \n",
       "4  https://www.efeedlink.com/contents/06-01-2022/...  "
      ]
     },
     "execution_count": 56,
     "metadata": {},
     "output_type": "execute_result"
    }
   ],
   "source": [
    "pd.set_option('display.max_columns', None)\n",
    "test_file = r\"C:\\\\Users\\\\stark\\\\Documents\\\\Anastria\\\\gdelt-data-pull\\\\data\\\\20220601\\\\export\\\\20220601000000-export.parquet\"\n",
    "tmp_df = pd.read_parquet(test_file)\n",
    "tmp_df.head()"
   ]
  },
  {
   "cell_type": "code",
   "execution_count": null,
   "metadata": {},
   "outputs": [],
   "source": []
  }
 ],
 "metadata": {
  "interpreter": {
   "hash": "779ba827754c529a7c11c6bab79cacaaad2e68b57587cd4f2cc67c763b28ad59"
  },
  "kernelspec": {
   "display_name": "Python 3.9.7 ('base')",
   "language": "python",
   "name": "python3"
  },
  "language_info": {
   "codemirror_mode": {
    "name": "ipython",
    "version": 3
   },
   "file_extension": ".py",
   "mimetype": "text/x-python",
   "name": "python",
   "nbconvert_exporter": "python",
   "pygments_lexer": "ipython3",
   "version": "3.9.7"
  },
  "orig_nbformat": 4
 },
 "nbformat": 4,
 "nbformat_minor": 2
}
